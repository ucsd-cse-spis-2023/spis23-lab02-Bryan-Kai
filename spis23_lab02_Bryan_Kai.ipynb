{
  "nbformat": 4,
  "nbformat_minor": 0,
  "metadata": {
    "colab": {
      "provenance": [],
      "include_colab_link": true
    },
    "kernelspec": {
      "name": "python3",
      "display_name": "Python 3"
    },
    "language_info": {
      "name": "python"
    }
  },
  "cells": [
    {
      "cell_type": "markdown",
      "metadata": {
        "id": "view-in-github",
        "colab_type": "text"
      },
      "source": [
        "<a href=\"https://colab.research.google.com/github/ucsd-cse-spis-2023/spis23-lab02-Bryan-Kai/blob/main/spis23_lab02_Bryan_Kai.ipynb\" target=\"_parent\"><img src=\"https://colab.research.google.com/assets/colab-badge.svg\" alt=\"Open In Colab\"/></a>"
      ]
    },
    {
      "cell_type": "code",
      "execution_count": null,
      "metadata": {
        "colab": {
          "base_uri": "https://localhost:8080/"
        },
        "id": "Vl18gFIK7YIh",
        "outputId": "9da48f42-b04c-4499-b851-f6f5b8119f28"
      },
      "outputs": [
        {
          "output_type": "stream",
          "name": "stdout",
          "text": [
            "8\n"
          ]
        }
      ],
      "source": [
        "# The goal of this program is to practice Python constructs\n",
        "def sumTwo(a,b):\n",
        "  c = a + b\n",
        "  return c\n",
        "\n",
        "x = sumTwo(3,5)\n",
        "print(x)\n",
        "\n"
      ]
    },
    {
      "cell_type": "code",
      "source": [
        "# part 2\n",
        "def getNumber():\n",
        "  symbols = input(\"Enter a digit: \")\n",
        "  finalNumStr = \"\"\n",
        "  number = int(symbols)\n",
        "  while number >= 0:\n",
        "    finalNumStr += symbols\n",
        "    symbols = input(\"Enter a digit: \")\n",
        "    number = int(symbols)\n",
        "  return finalNumStr\n",
        "\n",
        "getNumber()"
      ],
      "metadata": {
        "colab": {
          "base_uri": "https://localhost:8080/",
          "height": 107
        },
        "id": "jMU05-j8KCMi",
        "outputId": "2e4b28f5-e356-46c0-c8f5-2a3e2a366a59"
      },
      "execution_count": null,
      "outputs": [
        {
          "name": "stdout",
          "output_type": "stream",
          "text": [
            "Enter a digit: 1\n",
            "Enter a digit: 2\n",
            "Enter a digit: 3\n",
            "Enter a digit: -5\n"
          ]
        },
        {
          "output_type": "execute_result",
          "data": {
            "text/plain": [
              "'123'"
            ],
            "application/vnd.google.colaboratory.intrinsic+json": {
              "type": "string"
            }
          },
          "metadata": {},
          "execution_count": 8
        }
      ]
    },
    {
      "cell_type": "code",
      "source": [
        "# part 3 (trial, only works for 3 digit numbers)\n",
        "def sumDigits(x):\n",
        "  sum = 0\n",
        "  digit1 = 0\n",
        "  digit2 = 0\n",
        "  digit3 = 0\n",
        "\n",
        "# extracting each digit\n",
        "  digit1 = x % 10\n",
        "  digit2 = (x // 10) % 10\n",
        "  digit3 = x // 100\n",
        "  sum += digit1 + digit2 + digit3\n",
        "\n",
        "  return sum\n",
        "\n",
        "sumDigits(236)\n"
      ],
      "metadata": {
        "id": "7jotpAfUPItW",
        "colab": {
          "base_uri": "https://localhost:8080/"
        },
        "outputId": "311d4d38-33de-46e6-a84b-6051c2f89d39"
      },
      "execution_count": null,
      "outputs": [
        {
          "output_type": "execute_result",
          "data": {
            "text/plain": [
              "11"
            ]
          },
          "metadata": {},
          "execution_count": 4
        }
      ]
    },
    {
      "cell_type": "code",
      "source": [
        "# part 3\n",
        "def sumDigits(x):\n",
        "  sum = 0\n",
        "  num = 0\n",
        "\n",
        "  while x > 0:\n",
        "    print(\"hello\")\n",
        "    sum += x % 10\n",
        "    sum += (x // 10) % 10\n",
        "    sum += x // 100\n",
        "    if num <= 0:\n",
        "      break\n",
        "  return sum\n",
        "\n",
        "\n",
        "\n",
        "sumDigits(1567)\n"
      ],
      "metadata": {
        "colab": {
          "base_uri": "https://localhost:8080/"
        },
        "id": "p72QR6jnK9yI",
        "outputId": "3b11d0a3-d823-454a-916d-2f9f030a3a75"
      },
      "execution_count": null,
      "outputs": [
        {
          "output_type": "stream",
          "name": "stdout",
          "text": [
            "hello\n"
          ]
        },
        {
          "output_type": "execute_result",
          "data": {
            "text/plain": [
              "28"
            ]
          },
          "metadata": {},
          "execution_count": 11
        }
      ]
    },
    {
      "cell_type": "code",
      "source": [
        "# part 3 complete\n",
        "def sumDigits(x):\n",
        "  sum = 0\n",
        "\n",
        "  while x > 0:\n",
        "    if x // 10 < 0:\n",
        "      break\n",
        "# gathers digit\n",
        "    sum += x % 10\n",
        "# chops off right-most digit\n",
        "    x = x // 10\n",
        "\n",
        "  return sum\n",
        "\n",
        "sumDigits(1567)\n"
      ],
      "metadata": {
        "id": "0g_sY5TUPocB",
        "colab": {
          "base_uri": "https://localhost:8080/"
        },
        "outputId": "8ba879a6-4de6-4858-9ebb-6222815ef368"
      },
      "execution_count": 25,
      "outputs": [
        {
          "output_type": "execute_result",
          "data": {
            "text/plain": [
              "19"
            ]
          },
          "metadata": {},
          "execution_count": 25
        }
      ]
    }
  ]
}